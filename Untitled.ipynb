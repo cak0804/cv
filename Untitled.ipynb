{
 "cells": [
  {
   "cell_type": "code",
   "execution_count": 112,
   "metadata": {},
   "outputs": [],
   "source": [
    "import pandas as pd\n",
    "import numpy as np\n",
    "import cv2"
   ]
  },
  {
   "cell_type": "code",
   "execution_count": 113,
   "metadata": {},
   "outputs": [],
   "source": [
    "X_file = pd.read_csv(\"MURA-v1.1/train_image_paths.csv\",header = None)\n",
    "X_valid_file = pd.read_csv(\"MURA-v1.1/valid_image_paths.csv\",header = None)\n",
    "y_file = pd.read_csv(\"MURA-v1.1/train_labeled_studies.csv\",header = None,index_col=0)\n",
    "y_valid_file = pd.read_csv(\"MURA-v1.1/valid_labeled_studies.csv\",header = None,index_col=0)"
   ]
  },
  {
   "cell_type": "code",
   "execution_count": 114,
   "metadata": {},
   "outputs": [],
   "source": [
    "train_size = 2000\n",
    "test_size = 500\n",
    "img_size = (512,300)\n",
    "X = []\n",
    "y = []\n",
    "test_X = []\n",
    "test_y = []\n",
    "for i in range(train_size):\n",
    "    file = X_file[0].iloc[i]\n",
    "    img = cv2.imread(file,0)\n",
    "    img = cv2.resize(img,img_size)\n",
    "    file = file[:-10]\n",
    "    try:\n",
    "        label = y_file.loc[file,1]\n",
    "    except :\n",
    "        pass\n",
    "    else:\n",
    "        X.append(img)\n",
    "        y.append(label)\n",
    "for i in range(test_size):\n",
    "    file = X_valid_file[0].iloc[i]\n",
    "    img = cv2.imread(file,0)\n",
    "    img = cv2.resize(img,img_size)\n",
    "    file = file[:-10]\n",
    "    try:\n",
    "        label = y_valid_file.loc[file,1]\n",
    "    except :\n",
    "        pass\n",
    "    else:\n",
    "        test_X.append(img)\n",
    "        test_y.append(label)"
   ]
  },
  {
   "cell_type": "code",
   "execution_count": 115,
   "metadata": {},
   "outputs": [
    {
     "name": "stdout",
     "output_type": "stream",
     "text": [
      "(2000, 300, 512) (2000,) (500, 300, 512) (500,)\n"
     ]
    }
   ],
   "source": [
    "X,y = np.array(X),np.array(y)\n",
    "test_X,test_y = np.array(test_X),np.array(test_y)\n",
    "print(X.shape,y.shape,test_X.shape,test_y.shape)"
   ]
  },
  {
   "cell_type": "code",
   "execution_count": 151,
   "metadata": {},
   "outputs": [
    {
     "name": "stdout",
     "output_type": "stream",
     "text": [
      "[4 6 8]\n",
      "[ 6 12]\n"
     ]
    }
   ],
   "source": [
    "a = np.array([[1,2,3],[3,4,5]])\n",
    "b = np.array([[4,5,6],[7,8,9]])\n",
    "print(np.sum(a,axis = 0))\n",
    "print(np.sum(a,axis = 1))\n"
   ]
  }
 ],
 "metadata": {
  "kernelspec": {
   "display_name": "Python 3",
   "language": "python",
   "name": "python3"
  },
  "language_info": {
   "codemirror_mode": {
    "name": "ipython",
    "version": 3
   },
   "file_extension": ".py",
   "mimetype": "text/x-python",
   "name": "python",
   "nbconvert_exporter": "python",
   "pygments_lexer": "ipython3",
   "version": "3.6.5"
  }
 },
 "nbformat": 4,
 "nbformat_minor": 2
}
